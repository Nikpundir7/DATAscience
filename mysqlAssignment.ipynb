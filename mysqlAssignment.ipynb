{
 "cells": [
  {
   "cell_type": "markdown",
   "id": "f908c3c4-36f0-4125-93b8-aecb35283f49",
   "metadata": {},
   "source": [
    "Q1. What is a database? Differentiate between SQL and NoSQL databases.\n",
    "\n",
    "Database is an organized collection od data,so that it can be easily accessed and managed. The main purpose of database is to operate a large amount of information by storing ,retrieving,and managing data.\n",
    "\n",
    "SQL: 1.SQL is a relational database.i.e RDBMS 2.SQL databses have fixed or predefined schema. 3.SQL databases display data in form of tables. 4.SQL is used 'structured Query Language' to define and manipulate the data. 5.SQL database is best suited for complex queries. 6.Ex:Oracle,MYSQL,PostgreSQL etc.\n",
    "\n",
    "NOSQL: 1.NoSQl database are non-relational database. 2.NoSQL database have dynamic scchema. 3.NoSQL database dispaly data as collection of key-value pair.documents etc. 4.NoSQL databases is not so good for complex queries. 5.Ex: MongoDb,Cassandra etc.\n",
    "\n",
    "Q2. What is DDL? Explain why CREATE, DROP, ALTER, and TRUNCATE are used with an example.\n",
    "\n",
    "DDL stands for 'Data Definition language',DDL command is used to create or modify the table.\n",
    "\n",
    "CREATE: This command is to create a new table in SQL. syntax: create table table_name( column_1 datatype, ... );\n",
    "\n",
    "DROP: This command is to remove existing table along with its structure from the database. syntax: drop table table_name;\n",
    "\n",
    "ALTER:\n",
    "This command is used to add,delete or change columns in the existing table.the user should the name of existing table name. syntax: alter table table_name add column_name datatype\n",
    "\n",
    "TRUNCATE: This command is used to remove all rows from the table ,but the structure of the table still exist. syntax: truncate table table_name;\n",
    "\n",
    "Q3. What is DML? Explain INSERT, UPDATE, and DELETE with an example.\n",
    "\n",
    "DML is stands for 'Data Manipulation Language'.DML command is used to change the data present in sql database. we can easily access,store,modify,update,and delete the existing record from the database using DML command.\n",
    "\n",
    "INSERT: INSERT command is uset to insert the data in the existing table. Example: insert into student(stu_id,stu_name) values(001,\"bhanu\");\n",
    "\n",
    "UPDATE: update command is used to update existing data within a table. Example: update student set stu_name=\"ram\" where stu_id=001;\n",
    "\n",
    "DELETE: delete command is used to delete records from a database table. Example: delete from student where stu_id=001;\n",
    "\n",
    "Q4. What is DQL? Explain SELECT with an example.\n",
    "\n",
    "DQL stands for 'Data Query Language'.This command allows getting the data out from the database to perform operation Example: select emp_name from employee where age>20;\n",
    "\n",
    "Q5. Explain Primary Key and Foreign Key.\n",
    "\n",
    "Primary key:A Primary is unique key in table that ensure data in the specific column is unique.This column cannot have NULL values.\n",
    "\n",
    "Foreign Key: A foreign key is a column or group of column in a relational database table that provides a link between data in two tables."
   ]
  },
  {
   "cell_type": "markdown",
   "id": "23000134-da65-4e5d-80e7-0e18124fdeee",
   "metadata": {},
   "source": [
    "Q6. Write a python code to connect MySQL to python. Explain the cursor() and execute() method."
   ]
  },
  {
   "cell_type": "markdown",
   "id": "dcb830bc-c4e7-431b-9ad8-ee0c546426f0",
   "metadata": {},
   "source": [
    "\n",
    "\n",
    "import mysql.connector\n",
    "mydb=mysql.connector.connect(\n",
    "      host-'localhost',\n",
    "      user='abc',\n",
    "      password='password')\n",
    "\n",
    "print(mydb)\n",
    "\n",
    "cursor-mydb.cursor()\n",
    "\n",
    "cursor.execute(\"show databses\")\n",
    "\n",
    "for i in cursor:\n",
    "    print(i)"
   ]
  },
  {
   "cell_type": "markdown",
   "id": "2fa1304b-466f-4fe3-a3b9-616d7cc6cfa1",
   "metadata": {},
   "source": [
    "cursor()->cursor() method is used to execute statement to communicate with the MySql database. execute()-> this method accepts a mysql query as a parameter and executes the given query.\n",
    "\n",
    "Q7. Give the order of execution of SQL clauses in an SQL query.\n",
    "\n",
    "step1: from\n",
    "step2:where\n",
    "step3:group by\n",
    "step4:having\n",
    "step5:select\n",
    "step6:    "
   ]
  },
  {
   "cell_type": "code",
   "execution_count": null,
   "id": "64b655a0-f642-426e-9ce3-757c3b096027",
   "metadata": {},
   "outputs": [],
   "source": []
  }
 ],
 "metadata": {
  "kernelspec": {
   "display_name": "Python 3 (ipykernel)",
   "language": "python",
   "name": "python3"
  },
  "language_info": {
   "codemirror_mode": {
    "name": "ipython",
    "version": 3
   },
   "file_extension": ".py",
   "mimetype": "text/x-python",
   "name": "python",
   "nbconvert_exporter": "python",
   "pygments_lexer": "ipython3",
   "version": "3.10.8"
  }
 },
 "nbformat": 4,
 "nbformat_minor": 5
}
