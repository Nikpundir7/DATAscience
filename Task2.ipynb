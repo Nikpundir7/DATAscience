{
 "cells": [
  {
   "cell_type": "markdown",
   "id": "76ef74b0-a6f0-4b4c-98da-f9154443d906",
   "metadata": {},
   "source": [
    "\"\"\"\n",
    "Q1. You are writing code for a company. The requirement of the company is that you create a python \n",
    "function that will check whether the password entered by the user is correct or not. \n",
    "The function should take the password as input and return the string “Valid Password” \n",
    "if the entered password follows the below-given password guidelines else it should return “Invalid Password”. \n",
    "Note: 1. The Password should contain at least two uppercase letters and at least two lowercase letters. \n",
    "2. The Password should contain at least a number and three special characters. 3. The length of the password should be 10 characters long.\n",
    "\"\"\"\n",
    "\n"
   ]
  },
  {
   "cell_type": "code",
   "execution_count": 1,
   "id": "8f88224a-f00b-48a6-b327-14fa76ff8cec",
   "metadata": {},
   "outputs": [
    {
     "name": "stdout",
     "output_type": "stream",
     "text": [
      "invalid password\n"
     ]
    }
   ],
   "source": [
    "def check_pswd(pswd):\n",
    "    upper_count=0\n",
    "    lower_count=0\n",
    "    number_count=0\n",
    "    special_count=0\n",
    "    special_char=\"!@#$%^&*\"\n",
    "    \n",
    "    for i in pswd:\n",
    "        if i==i.upper():\n",
    "            upper_count=upper_count+1\n",
    "        if i==i.lower():\n",
    "            lower_count=lower_count+1\n",
    "        if i==i.isdigit():\n",
    "            number_count=number_count+1\n",
    "        if i in special_char:\n",
    "            special_count=special_count+1\n",
    "        if upper_count>=2 and lower_count>=2 and number_count>=1 and special_count>=3 and len(pswd)==10:\n",
    "            return \"valid password\"\n",
    "        else:\n",
    "            return \"invalid password\"\n",
    "\n",
    "print(check_pswd(\"INnd1!@#dd\"))\n",
    "            "
   ]
  },
  {
   "cell_type": "markdown",
   "id": "ddc86a79-36f7-4eca-8f12-c790974d8536",
   "metadata": {},
   "source": [
    "\n",
    "\"\"\"\n",
    "Q2. Solve the below-given questions using at least one of the following:\n",
    "\n",
    "Lambda function\n",
    "Filter function\n",
    "map function\n",
    "List Comprehension\n",
    "Check if the string starts with a particular letter.\n",
    "\n",
    "\"\"\""
   ]
  },
  {
   "cell_type": "code",
   "execution_count": 4,
   "id": "1d754b24-1e07-4248-943d-95b7a371eef5",
   "metadata": {},
   "outputs": [
    {
     "name": "stdout",
     "output_type": "stream",
     "text": [
      "True\n"
     ]
    }
   ],
   "source": [
    "var = \"Data science course\"\n",
    "filtered = lambda x: x.startswith('D')\n",
    "print(filtered(var))\n"
   ]
  },
  {
   "cell_type": "markdown",
   "id": "d4f00b68-3206-43ed-81ca-08287ac9d199",
   "metadata": {},
   "source": [
    "\n",
    "\"\"\"\n",
    "Sort a list of tuples having fruit names and their quantity.\n",
    "[(\"mango\",99),(\"orange\",80), (\"grapes\", 1000)]\n",
    "\n",
    "\"\"\""
   ]
  },
  {
   "cell_type": "code",
   "execution_count": 5,
   "id": "6ab1625a-26f8-4d6a-8271-d8cfff5b595e",
   "metadata": {},
   "outputs": [
    {
     "name": "stdout",
     "output_type": "stream",
     "text": [
      "[('grapes', 1000), ('mango', 99), ('orange', 80)]\n"
     ]
    }
   ],
   "source": [
    "def Sort_Tuple(tup):\n",
    "    tup.sort(key = lambda x: x[0])\n",
    "    return tup\n",
    " \n",
    "tup=[(\"mango\",99),(\"orange\",80), (\"grapes\", 1000)]\n",
    "\n",
    "print(Sort_Tuple(tup))\n",
    "\n",
    "\n"
   ]
  },
  {
   "cell_type": "code",
   "execution_count": 6,
   "id": "36c452dd-1042-4f61-a6ec-c1c918fa567e",
   "metadata": {},
   "outputs": [
    {
     "data": {
      "text/plain": [
       "[1, 4, 9, 16, 25, 36, 49, 64, 81, 100]"
      ]
     },
     "execution_count": 6,
     "metadata": {},
     "output_type": "execute_result"
    }
   ],
   "source": [
    "\n",
    "##Find the squares of numbers from 1 to 10\n",
    "\n",
    "def sqr(x):\n",
    "    return x*x\n",
    " \n",
    "list(map(sqr,range(1,11)))"
   ]
  },
  {
   "cell_type": "code",
   "execution_count": 8,
   "id": "8567f2e7-37cc-47d4-9b04-336eed7035dd",
   "metadata": {},
   "outputs": [
    {
     "name": "stdout",
     "output_type": "stream",
     "text": [
      "[1.0, 1.2599210498948732, 1.4422495703074083, 1.5874010519681994, 1.7099759466766968, 1.8171205928321397, 1.912931182772389, 2.0, 2.080083823051904, 2.154434690031884]\n"
     ]
    }
   ],
   "source": [
    "###cube root \n",
    "c =[1,2,3,4,5,6,7,8,9,10]\n",
    "print(list(map(lambda x : x **(1/3),c)))\n",
    "\n"
   ]
  },
  {
   "cell_type": "code",
   "execution_count": 9,
   "id": "5c6ab350-f7dd-4e22-8ae2-a6dfb5a0e0b1",
   "metadata": {},
   "outputs": [
    {
     "data": {
      "text/plain": [
       "[2, 4, 6, 8, 10]"
      ]
     },
     "execution_count": 9,
     "metadata": {},
     "output_type": "execute_result"
    }
   ],
   "source": [
    "##even nos\n",
    "\n",
    "l1 =[1,2,3,4,5,6,7,8,9,10]\n",
    "list(filter(lambda x : x %2 ==0,l1))"
   ]
  },
  {
   "cell_type": "code",
   "execution_count": 12,
   "id": "d6e4763e-be1c-4f87-9ac6-97c0b7ceb792",
   "metadata": {},
   "outputs": [
    {
     "data": {
      "text/plain": [
       "[1, 3, 5, 7, 9]"
      ]
     },
     "execution_count": 12,
     "metadata": {},
     "output_type": "execute_result"
    }
   ],
   "source": [
    "###Filter odd numbers from the given list. [1,2,3,4,5,6,7,8,9,10]\n",
    "\n",
    "l2 = [1,2,3,4,5,6,7,8,9,10]\n",
    "list(filter(lambda x : x%2 != 0,l2))"
   ]
  },
  {
   "cell_type": "code",
   "execution_count": 14,
   "id": "759824b7-d433-4921-9e43-7bb48f27951b",
   "metadata": {},
   "outputs": [
    {
     "data": {
      "text/plain": [
       "[-1, -2, -3, -4, -5]"
      ]
     },
     "execution_count": 14,
     "metadata": {},
     "output_type": "execute_result"
    }
   ],
   "source": [
    "\n",
    "##Sort a list of integers into positive and negative integers lists. [1,2,3,4,5,6,-1,-2,-3,-4,-5,0]\n",
    "\n",
    "l3 = [1,2,3,4,5,6,-1,-2,-3,-4,-5,0]\n",
    "pst = list(filter(lambda x : x > 0,l3))\n",
    "\n",
    "ngt = list(filter(lambda x : x < 0,l3))\n",
    "ngt\n"
   ]
  },
  {
   "cell_type": "code",
   "execution_count": 15,
   "id": "36cbed18-d7f9-496d-ba05-0ec5463d7fc6",
   "metadata": {},
   "outputs": [
    {
     "data": {
      "text/plain": [
       "[1, 2, 3, 4, 5, 6]"
      ]
     },
     "execution_count": 15,
     "metadata": {},
     "output_type": "execute_result"
    }
   ],
   "source": [
    "pst"
   ]
  },
  {
   "cell_type": "code",
   "execution_count": null,
   "id": "6cc3bb59-9a0c-45fc-aeb4-f29497e862a9",
   "metadata": {},
   "outputs": [],
   "source": []
  }
 ],
 "metadata": {
  "kernelspec": {
   "display_name": "Python 3 (ipykernel)",
   "language": "python",
   "name": "python3"
  },
  "language_info": {
   "codemirror_mode": {
    "name": "ipython",
    "version": 3
   },
   "file_extension": ".py",
   "mimetype": "text/x-python",
   "name": "python",
   "nbconvert_exporter": "python",
   "pygments_lexer": "ipython3",
   "version": "3.10.8"
  }
 },
 "nbformat": 4,
 "nbformat_minor": 5
}
