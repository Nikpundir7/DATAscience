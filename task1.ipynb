{
 "cells": [
  {
   "cell_type": "code",
   "execution_count": null,
   "id": "1ef913a7-2936-4ca4-926d-ac5c2c5724ed",
   "metadata": {},
   "outputs": [],
   "source": [
    "\n",
    "'''\n",
    "Q1. Create a function which will take a list as an argument and return the product of all the numbers\n",
    "after creating a flat list.\n",
    "Use the below-given list as an argument for your function.\n",
    "'''\n"
   ]
  },
  {
   "cell_type": "code",
   "execution_count": 49,
   "id": "10a2e11c-de30-4f48-85d2-0018ac335c6f",
   "metadata": {},
   "outputs": [],
   "source": [
    "list1 = [1,2,3,4, [44,55,66, True], False, (34,56,78,89,34), {1,2,3,3,2,1}, {1:34, \"key2\": [55, 67, 78, 89], 4: (45,\n",
    "22, 61, 34)}, [56, 'data science'], 'Machine Learning']\n",
    "\n",
    "# phase 1\n",
    "def flatlist(list1):\n",
    "    flist=[]\n",
    "    for i in list1:\n",
    "        if type(i)==list or type(i)==tuple or type(i)==set:\n",
    "            for element in i:\n",
    "                flist.append(element)\n",
    "        elif type(i)==dict:\n",
    "            temp_list=list(i.items())\n",
    "            for i in temp_list:\n",
    "                for element in i:\n",
    "                    if type(element)==list or type(element)==tuple:\n",
    "                         for j in element:\n",
    "                            flist.append(j)\n",
    "                    else:\n",
    "                        flist.append(element)\n",
    "                    \n",
    "        else:\n",
    "            flist.append(i)\n",
    "    return flist\n",
    "\n",
    "\n",
    "list2=flatlist(list1)\n",
    "\n",
    " \n"
   ]
  },
  {
   "cell_type": "code",
   "execution_count": 45,
   "id": "4b2f3fcb-62c7-4235-8768-0d12b427d761",
   "metadata": {},
   "outputs": [
    {
     "name": "stdout",
     "output_type": "stream",
     "text": [
      "4134711838987085478833841242112000\n"
     ]
    }
   ],
   "source": [
    "# print(list2)\n",
    "\n",
    "a=1\n",
    "for i in list2:\n",
    "    if type(i)==int:\n",
    "        a=a*i\n",
    "print(a)       "
   ]
  },
  {
   "cell_type": "code",
   "execution_count": null,
   "id": "d21e5735-c002-4f0d-855d-f5dbb219f534",
   "metadata": {},
   "outputs": [],
   "source": [
    "\"\"\"\n",
    "Q2. Write a python program for encrypting a message sent to you by your friend. The logic of encryption should be such that, for a the output should be z. For b, the output should be y. For c, the output should be x respectively. Also, the whitespace should be replaced with a dollar sign. Keep the punctuation marks unchanged. Input Sentence: I want to become a Data Scientist. Encrypt the above input sentence using the program you just created. Note: Convert the given input sentence into lowercase before encrypting. The final output should be lowercase.\n",
    "\n",
    "\n",
    "\"\"\"\n",
    "\n",
    "\n",
    "\n"
   ]
  },
  {
   "cell_type": "code",
   "execution_count": 51,
   "id": "acae0467-d61d-427a-95db-fd137e3cc4ac",
   "metadata": {},
   "outputs": [],
   "source": [
    "dict={'a':'x','b':'y','c':'x','d':'w','e':'v','f':'u','g':'t','h':'s','i':'r',\n",
    "    'j':'q','k':'p','l':'o','m':'n','n':'m','o':'l','p':'k','q':'j','r':'i',\n",
    "     's':'h','t':'g','u':'f','v':'e','w':'d','x':'c','y':'b',\n",
    "      'z':'a'}\n",
    "s=\"I want to become a Data Scientist\"\n",
    "new_s=s.lower()\n",
    "for i in new_s:\n",
    "    if i==\" \":\n",
    "        new_s=new_s.replace(\" \",\"$\")"
   ]
  },
  {
   "cell_type": "code",
   "execution_count": 52,
   "id": "8002d8a9-5abb-4f91-a1aa-68da5d5d709e",
   "metadata": {},
   "outputs": [
    {
     "data": {
      "text/plain": [
       "'i$want$to$become$a$data$scientist'"
      ]
     },
     "execution_count": 52,
     "metadata": {},
     "output_type": "execute_result"
    }
   ],
   "source": [
    "\n",
    "new_s\n",
    "\n"
   ]
  },
  {
   "cell_type": "code",
   "execution_count": 53,
   "id": "59275e03-1058-4305-a024-67d7816a464e",
   "metadata": {},
   "outputs": [],
   "source": [
    "for element in new_s:\n",
    "    if element in dict.keys():\n",
    "        new_s=new_s.replace(element,dict[element])"
   ]
  },
  {
   "cell_type": "code",
   "execution_count": 54,
   "id": "fe2c76a9-cfd8-4220-a733-4abc6d0906ec",
   "metadata": {},
   "outputs": [
    {
     "data": {
      "text/plain": [
       "'r$wxmg$gl$yvxlmv$x$wxgx$hxrvmgrhg'"
      ]
     },
     "execution_count": 54,
     "metadata": {},
     "output_type": "execute_result"
    }
   ],
   "source": [
    "new_s"
   ]
  },
  {
   "cell_type": "code",
   "execution_count": null,
   "id": "11c62aa5-ef05-4d08-86e2-1be99ea6a14d",
   "metadata": {},
   "outputs": [],
   "source": []
  }
 ],
 "metadata": {
  "kernelspec": {
   "display_name": "Python 3 (ipykernel)",
   "language": "python",
   "name": "python3"
  },
  "language_info": {
   "codemirror_mode": {
    "name": "ipython",
    "version": 3
   },
   "file_extension": ".py",
   "mimetype": "text/x-python",
   "name": "python",
   "nbconvert_exporter": "python",
   "pygments_lexer": "ipython3",
   "version": "3.10.8"
  }
 },
 "nbformat": 4,
 "nbformat_minor": 5
}
