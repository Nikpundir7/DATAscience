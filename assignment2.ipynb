{
 "cells": [
  {
   "cell_type": "code",
   "execution_count": 1,
   "id": "94033c62-5226-45c5-a197-1d486729b76d",
   "metadata": {},
   "outputs": [
    {
     "name": "stdin",
     "output_type": "stream",
     "text": [
      "Enter the percentage: 80\n"
     ]
    },
    {
     "name": "stdout",
     "output_type": "stream",
     "text": [
      "Grade C\n"
     ]
    }
   ],
   "source": [
    "\n",
    "\n",
    "\n",
    "# 1. write a program to accept percentage from user and display the grade \n",
    "percent=int(input(\"Enter the percentage:\"))\n",
    "if percent<=100 and percent>90:\n",
    "    print(\"Grade A\")\n",
    "elif percent<=90 and percent>80:\n",
    "    print(\"Grade B\")\n",
    "elif percent>=60 and percent<=80:\n",
    "    print(\"Grade C\")\n",
    "else:\n",
    "    print(\"Grade D\")\n",
    "    \n",
    "    \n",
    "\n",
    "\n",
    "\n",
    "\n",
    "\n"
   ]
  },
  {
   "cell_type": "code",
   "execution_count": 2,
   "id": "5c92e232-c743-49b3-a36f-274661392703",
   "metadata": {},
   "outputs": [
    {
     "name": "stdin",
     "output_type": "stream",
     "text": [
      "Enter Bike price: 75000\n"
     ]
    },
    {
     "name": "stdout",
     "output_type": "stream",
     "text": [
      "your payable road tax is: 7500.0\n"
     ]
    }
   ],
   "source": [
    "# 2. write a program to accept the cost price of bike and display the road tax to be paid  \n",
    "bike_price=int(input(\"Enter Bike price:\"))\n",
    "if bike_price>100000:\n",
    "    tax=(15/100)*bike_price\n",
    "    print(\"your payable road tax is:\",tax)\n",
    "elif bike_price>50000 and bike_price<=100000:\n",
    "    tax=(10/100)*bike_price\n",
    "    print(\"your payable road tax is:\",tax)\n",
    "else:\n",
    "    tax=(5/100)*bike_price\n",
    "    print(\"your payable road tax is:\",tax)\n",
    "\n",
    "    \n",
    "    "
   ]
  },
  {
   "cell_type": "code",
   "execution_count": 3,
   "id": "b58efe16-ce9d-4211-8547-0d109e11bf07",
   "metadata": {},
   "outputs": [
    {
     "name": "stdin",
     "output_type": "stream",
     "text": [
      "Enter your city name: delhi\n"
     ]
    },
    {
     "name": "stdout",
     "output_type": "stream",
     "text": [
      "Red Fort\n"
     ]
    }
   ],
   "source": [
    "# 3. Accept any city from the user and display monuments of that city \n",
    "city=input(\"Enter your city name:\")\n",
    "if city.capitalize()==\"Delhi\":\n",
    "    print(\"Red Fort\")\n",
    "elif city.capitalize()==\"Agra\":\n",
    "    print(\"Taj Mahal\")\n",
    "elif city.capitalize()==\"Jaipur\":\n",
    "    print(\"Jal Mahal\")\n",
    "else:\n",
    "    print(\"sorry,Your city is not in our list\")"
   ]
  },
  {
   "cell_type": "code",
   "execution_count": 4,
   "id": "f57cf6e9-cd08-4eac-9b62-93398f636c7b",
   "metadata": {},
   "outputs": [
    {
     "name": "stdin",
     "output_type": "stream",
     "text": [
      "Enter the Number: 99\n"
     ]
    },
    {
     "name": "stdout",
     "output_type": "stream",
     "text": [
      "The count is: 3\n"
     ]
    }
   ],
   "source": [
    "#4. check how many times a given number can be divided by 3 before it is less than or equal to 10\n",
    "number=int(input(\"Enter the Number:\"))\n",
    "count=0\n",
    "while(number>10):\n",
    "    number=number//3\n",
    "    count=count+1\n",
    "print(\"The count is:\",count)    \n"
   ]
  },
  {
   "cell_type": "code",
   "execution_count": 5,
   "id": "489b2a82-9655-4c23-9f94-ace19344d24b",
   "metadata": {},
   "outputs": [
    {
     "name": "stdout",
     "output_type": "stream",
     "text": [
      "0\n",
      "1\n",
      "2\n",
      "4\n",
      "3\n",
      "2\n",
      "1\n"
     ]
    }
   ],
   "source": [
    "# 5. why and when to use while loop in python give a detailed description with example,\n",
    "# Ans -> python while loop is used to execute bloack of statements repeatedly until a given condition is satisfied.\n",
    "#        and when the condition becomes false,the line immmediately after the loop in the is executed.\n",
    "\n",
    "count =0\n",
    "while count<3:\n",
    "    print(count)\n",
    "    count=count+1\n",
    "\n",
    "# while loop with list\n",
    "a=[1,2,3,4]\n",
    "while a:\n",
    "    print(a.pop())"
   ]
  },
  {
   "cell_type": "code",
   "execution_count": 6,
   "id": "7bf204cc-9bcc-45c4-8e2b-a4b01ea700a0",
   "metadata": {},
   "outputs": [
    {
     "name": "stdin",
     "output_type": "stream",
     "text": [
      "Enter numbers of rows: 3\n"
     ]
    },
    {
     "name": "stdout",
     "output_type": "stream",
     "text": [
      "1 \n",
      "2 3 \n",
      "4 5 6 \n"
     ]
    }
   ],
   "source": [
    "# 6. use nested while loop to print 3 different pattern.\n",
    "\n",
    "\n",
    "# pattern-1\n",
    "n = int(input(\"Enter numbers of rows:\"))\n",
    "i=1\n",
    "# while i<=n:\n",
    "#     j=1\n",
    "#     while j<=i:\n",
    "#         print(\"*\",end=\" \")\n",
    "#         j=j+1\n",
    "#     print()\n",
    "#     i=i+1\n",
    "    \n",
    "\n",
    "    \n",
    "# pattern-2\n",
    "# while i<=n:\n",
    "#     j=n\n",
    "#     while j>=i:\n",
    "#         print(\"*\",end=\" \")\n",
    "#         j=j-1\n",
    "#     print()\n",
    "#     i=i+1\n",
    "\n",
    "\n",
    "# pattern-3\n",
    "k=1\n",
    "while i<=n:\n",
    "    j=1\n",
    "    while j<=i:\n",
    "        print(k,end=\" \")\n",
    "        j=j+1\n",
    "        k=k+1\n",
    "    print()\n",
    "    i=i+1"
   ]
  },
  {
   "cell_type": "code",
   "execution_count": 7,
   "id": "39a372fe-0ae2-4740-a364-9c95a5d73675",
   "metadata": {},
   "outputs": [
    {
     "name": "stdout",
     "output_type": "stream",
     "text": [
      "10\n",
      "9\n",
      "8\n",
      "7\n",
      "6\n",
      "5\n",
      "4\n",
      "3\n",
      "2\n",
      "1\n"
     ]
    }
   ],
   "source": [
    "# 7.Reverse a while loop to display a number from 10 to 1. \n",
    "n=10\n",
    "while(n>0):\n",
    "    print(n)\n",
    "    n=n-1\n"
   ]
  },
  {
   "cell_type": "code",
   "execution_count": null,
   "id": "9c16a3d6-f81e-463a-995e-f6b38890c318",
   "metadata": {},
   "outputs": [],
   "source": []
  }
 ],
 "metadata": {
  "kernelspec": {
   "display_name": "Python 3 (ipykernel)",
   "language": "python",
   "name": "python3"
  },
  "language_info": {
   "codemirror_mode": {
    "name": "ipython",
    "version": 3
   },
   "file_extension": ".py",
   "mimetype": "text/x-python",
   "name": "python",
   "nbconvert_exporter": "python",
   "pygments_lexer": "ipython3",
   "version": "3.10.8"
  }
 },
 "nbformat": 4,
 "nbformat_minor": 5
}
