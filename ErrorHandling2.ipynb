{
 "cells": [
  {
   "cell_type": "markdown",
   "id": "94b173ee-2474-4ccb-b77d-8d7fbecceb45",
   "metadata": {},
   "source": [
    "Q1. Explain why we have to use the Exception class while creating a Custom Exception.\n"
   ]
  },
  {
   "cell_type": "markdown",
   "id": "d7fdd08c-0659-416d-b6c7-b3b19b18a04e",
   "metadata": {},
   "source": [
    "Custom exceptions provide you the flexibility to add attributes and methods that are not part of a standard python exception. These can store additional information, like an application-specific error code, or provide utility methods that can be used to handle or present the exception to a user."
   ]
  },
  {
   "cell_type": "markdown",
   "id": "1960ac5e-490b-49fb-a220-fc27db7aa842",
   "metadata": {},
   "source": [
    "Q2. Write a python program to print Python Exception Hierarchy."
   ]
  },
  {
   "cell_type": "code",
   "execution_count": 4,
   "id": "c4d1d54a-20b2-4c01-b2b3-e8984c08afab",
   "metadata": {},
   "outputs": [],
   "source": [
    "import logging \n",
    "logging.basicConfig(filename=\"test.log\",level=logging.INFO)\n",
    "logging.info(\"this is my line of execution\")\n",
    "logging.error(\"this is my error\")\n",
    "logging.critical(\"this is my line of critical\")\n",
    "logging.warning('this is my warning')\n",
    "logging.info(\"this is my info related to debug\")\n",
    "\n"
   ]
  },
  {
   "cell_type": "markdown",
   "id": "6e6810ca-475a-480a-8740-d8408d69527b",
   "metadata": {},
   "source": [
    "Q3. What errors are defined in the ArithmeticError class? Explain any two with an example."
   ]
  },
  {
   "cell_type": "markdown",
   "id": "d5cb02a3-e55c-41dc-8910-05a151534db9",
   "metadata": {},
   "source": [
    "ArithmeticError is simply an error that occurs during numeric calculations.\n",
    "\n",
    "ArithmeticError types in Python include:\n",
    "\n",
    "OverFlowError\n",
    "ZeroDivisionError\n",
    "FloatingPointError\n",
    "These errors are all capable of crashing a code in Python. It is essential to catch an error because you do not want your code to crash as a result of incorrect input from you or a user."
   ]
  },
  {
   "cell_type": "code",
   "execution_count": 5,
   "id": "6f367c52-f39e-4084-86b8-b09c9f1292f1",
   "metadata": {},
   "outputs": [
    {
     "name": "stdout",
     "output_type": "stream",
     "text": [
      "You have just made an Arithmetic error\n"
     ]
    }
   ],
   "source": [
    "try:\n",
    "  arithmetic = 5/0\n",
    "  print(arithmetic)\n",
    "except ArithmeticError:\n",
    "  print('You have just made an Arithmetic error')"
   ]
  },
  {
   "cell_type": "markdown",
   "id": "ed7f9ff8-d6bb-4f9b-9dca-feb27e82a4a7",
   "metadata": {},
   "source": [
    "\n",
    "Q4. Why LookupError class is used? Explain with an example KeyError and IndexError."
   ]
  },
  {
   "cell_type": "markdown",
   "id": "15b5f443-7295-4327-8b72-b28edd6b343b",
   "metadata": {},
   "source": [
    "The LookupError exception in Python forms the base class for all exceptions that are raised when an index or a key is not found for a sequence or dictionary respectively.\n",
    "\n",
    "You can use LookupError exception class to handle both IndexError and KeyError exception classes."
   ]
  },
  {
   "cell_type": "code",
   "execution_count": 7,
   "id": "5b8332fb-c8ac-46f7-98b2-e7afa31871e6",
   "metadata": {},
   "outputs": [
    {
     "name": "stdout",
     "output_type": "stream",
     "text": [
      "list index out of range, <class 'IndexError'>\n"
     ]
    }
   ],
   "source": [
    "x = [1, 2, 3, 4]\n",
    "try:\n",
    "    print(x[10])\n",
    "except IndexError as e:\n",
    "    print(f\"{e}, {e.__class__}\")\n",
    "\n"
   ]
  },
  {
   "cell_type": "code",
   "execution_count": 8,
   "id": "766d666d-000e-495b-a95b-772d72ed8686",
   "metadata": {},
   "outputs": [
    {
     "name": "stdout",
     "output_type": "stream",
     "text": [
      "1\n",
      "Key Not Found in Employee Dictionary: 'Role'\n"
     ]
    }
   ],
   "source": [
    "emp_dict = {'Name': 'Pankaj', 'ID': 1}\n",
    "\n",
    "try:\n",
    "    emp_id = emp_dict['ID']\n",
    "    print(emp_id)\n",
    "\n",
    "    emp_role = emp_dict['Role']\n",
    "    print(emp_role)\n",
    "except KeyError as e:\n",
    "    print('Key Not Found in Employee Dictionary:', e)"
   ]
  },
  {
   "cell_type": "markdown",
   "id": "b4582e98-d54e-4c6e-8570-c79dd2fcd592",
   "metadata": {},
   "source": [
    "Q5. Explain ImportError. What is ModuleNotFoundError?"
   ]
  },
  {
   "cell_type": "markdown",
   "id": "7fbfa6c5-912e-4ad3-be85-ef41ad5594be",
   "metadata": {},
   "source": [
    "The Python importerror has two causes, as stated in the section above. One cause is when you neglect to import and use the Python package. The second cause is when you configure this Python path incorrectly.\n",
    "\n",
    "\n",
    "We get the ModuleNotFoundError: no module called 'python module name' when we try to utilize a Python module that isn't installed. In this scenario, we just need to install the missing Python package."
   ]
  },
  {
   "cell_type": "markdown",
   "id": "da749fe5-6752-4942-a4a6-7dd986508fde",
   "metadata": {},
   "source": [
    "Q6. List down some best practices for exception handling in python."
   ]
  },
  {
   "cell_type": "code",
   "execution_count": 9,
   "id": "2acb4bb3-ff0c-4042-bc98-bd667e5dd824",
   "metadata": {},
   "outputs": [
    {
     "name": "stdout",
     "output_type": "stream",
     "text": [
      "this is my zero division error handling division by zero\n"
     ]
    }
   ],
   "source": [
    "##print valid msg\n",
    "\n",
    "try:\n",
    "    10/0\n",
    "except ZeroDivisionError as e:\n",
    "    print(\"this is my zero division error handling\",e)\n",
    "    "
   ]
  },
  {
   "cell_type": "markdown",
   "id": "e7f85ec6-88b1-4992-8c78-5dbddc8a3693",
   "metadata": {},
   "source": [
    "##always try to log errors\n",
    "import logging\n",
    "logging.basicConfig(filename=\"error.log\",level=logging.ERROR)\n",
    "try:\n",
    "    10/0\n",
    "except ZeroDivisionError as e:\n",
    "    logging.error(\"this is my zero division error handling\",e)\n"
   ]
  },
  {
   "cell_type": "code",
   "execution_count": 16,
   "id": "75afece2-69ae-41f0-b4cb-edb21e93819f",
   "metadata": {},
   "outputs": [],
   "source": [
    "##avoid multiple eror handling\n",
    "\n",
    "try:\n",
    "    10/0\n",
    "except FileNotFoundError as e:\n",
    "    logging.error(\"this is my file not found {}\".format(e))\n",
    "except AttributeError as e:\n",
    "\tlogging.error(\"this is my attribute  {}\".format(e))\n",
    "except ZeroDivisionError as e:\n",
    "\tlogging.error(\"this is my zero division error {}\".format(e))\n",
    "    "
   ]
  },
  {
   "cell_type": "code",
   "execution_count": 18,
   "id": "35e62574-ef2b-4ad0-9773-4c5031c82990",
   "metadata": {},
   "outputs": [],
   "source": [
    "##clean up resources\n",
    "\n",
    "try:\n",
    "    with open(\"text.txt\",\"w\") as f:\n",
    "        f.write(\"this is my msg to file\")\n",
    "except FileNotFoundError as e:\n",
    "        logging.error(f\"this is my file not found error {e}\")\n",
    "finally:\n",
    "    f.close()"
   ]
  },
  {
   "cell_type": "code",
   "execution_count": null,
   "id": "99ba975e-d92e-4b99-871c-b72e0ad2784d",
   "metadata": {},
   "outputs": [],
   "source": []
  }
 ],
 "metadata": {
  "kernelspec": {
   "display_name": "Python 3 (ipykernel)",
   "language": "python",
   "name": "python3"
  },
  "language_info": {
   "codemirror_mode": {
    "name": "ipython",
    "version": 3
   },
   "file_extension": ".py",
   "mimetype": "text/x-python",
   "name": "python",
   "nbconvert_exporter": "python",
   "pygments_lexer": "ipython3",
   "version": "3.10.8"
  }
 },
 "nbformat": 4,
 "nbformat_minor": 5
}
