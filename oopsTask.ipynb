{
 "cells": [
  {
   "cell_type": "code",
   "execution_count": 2,
   "id": "fc85eb41-a38f-4821-abc8-3eb92c914e98",
   "metadata": {},
   "outputs": [
    {
     "data": {
      "text/plain": [
       "300"
      ]
     },
     "execution_count": 2,
     "metadata": {},
     "output_type": "execute_result"
    }
   ],
   "source": [
    "###Q1, Create a vehicle class with an init method having instance variables as name_of_vehicle, max_speed and average_of_vehicle.\n",
    "\n",
    "class Vehicle:\n",
    "    def __init__(self,name_of_vehicle,max_speed,average_of_vehicle):\n",
    "        self.name_of_vehicle=name_of_vehicle\n",
    "        self.max_speed=max_speed\n",
    "        self.average_of_vehicle=average_of_vehicle\n",
    "\n",
    "bmw=Vehicle(\"BMW\",300,10)   \n",
    "bmw.max_speed\n",
    "        "
   ]
  },
  {
   "cell_type": "markdown",
   "id": "262d26ac-9227-4eec-ab2c-3b2395831294",
   "metadata": {},
   "source": [
    "Q2. Create a child class car from the vehicle class created in Que 1, which will inherit the vehicle class. Create a method named seating_capacity which takes capacity as an argument and returns the name of the vehicle and its seating capacity."
   ]
  },
  {
   "cell_type": "code",
   "execution_count": 4,
   "id": "d8aecdd9-60c0-416f-ba43-82b889525c6e",
   "metadata": {},
   "outputs": [
    {
     "data": {
      "text/plain": [
       "(5, 'AUDI Q3')"
      ]
     },
     "execution_count": 4,
     "metadata": {},
     "output_type": "execute_result"
    }
   ],
   "source": [
    "\n",
    "\n",
    "class Car(Vehicle):\n",
    "    \n",
    "    def seating_capacity(self,capacity):\n",
    "        self.capacity=capacity\n",
    "        return self.capacity,self.name_of_vehicle\n",
    "\n",
    "audi=Car(\"AUDI Q3\",180,40)\n",
    "audi.seating_capacity(5)\n"
   ]
  },
  {
   "cell_type": "markdown",
   "id": "387c733e-60a6-4f5d-ade3-f267297b742b",
   "metadata": {},
   "source": [
    "Q3. What is multiple inheritance? Write a python code to demonstrate multiple inheritance.\n",
    "\n",
    "Multiple Inheritance When a class is derived from more than one base class it is called multiple Inheritance. \n",
    "The derived class inherits all the features of the base case.\n",
    "\n"
   ]
  },
  {
   "cell_type": "code",
   "execution_count": 5,
   "id": "129f8202-a93e-4b15-8393-1ab2aa5931cd",
   "metadata": {},
   "outputs": [
    {
     "name": "stdout",
     "output_type": "stream",
     "text": [
      "In Class1\n"
     ]
    }
   ],
   "source": [
    "class Class1():\n",
    "    def m(self):\n",
    "        print(\"In Class1\")\n",
    "        \n",
    "class Class2():\n",
    "    def m(self):\n",
    "        print(\"In Class2\") \n",
    "        \n",
    "class Class3(Class1, Class2):\n",
    "    pass  \n",
    "     \n",
    "obj = Class3()\n",
    "obj.m()\n"
   ]
  },
  {
   "cell_type": "markdown",
   "id": "42dd8a71-ec1c-4d67-ac61-d9ee0dda65a4",
   "metadata": {},
   "source": [
    "Q4. What are getter and setter in python? Create a class and create a getter and a setter method in this class.\n",
    "\n",
    "For the purpose of data encapsulation, most object oriented languages use getters and setters method. This is because we want to hide the attributes of a object class from other classes so that no accidental modification of the data happens by methods in other classes.\n",
    "\n",
    "As the name suggests, getters are the methods which help access the private attributes or get the value of the private attributes and setters are the methods which help change or set the value of private attributes.\n"
   ]
  },
  {
   "cell_type": "code",
   "execution_count": 6,
   "id": "c6e3c10e-a371-4868-9189-dc286e21a13a",
   "metadata": {},
   "outputs": [
    {
     "name": "stdout",
     "output_type": "stream",
     "text": [
      "21\n"
     ]
    }
   ],
   "source": [
    "\n",
    "class Student:\n",
    "    def __init__(self, age = 0):\n",
    "        self._age = age\n",
    "\n",
    "    # getter method\n",
    "    def get_age(self):\n",
    "        return self._age\n",
    "\n",
    "    # setter method\n",
    "    def set_age(self, x):\n",
    "        self._age = x\n",
    "\n",
    "raj = Student()\n",
    "\n",
    "raj.set_age(21)\n",
    "\n",
    "\n",
    "print(raj.get_age())"
   ]
  },
  {
   "cell_type": "markdown",
   "id": "f7b07feb-7736-42d1-b578-4867cb6780fd",
   "metadata": {},
   "source": [
    "\n",
    "Q5.What is method overriding in python? Write a python code to demonstrate method overriding.\n",
    "\n",
    "Method overriding is an ability of any object-oriented programming language that allows a subclass or child class to provide a specific implementation of a method that is already provided by one of its super-classes or parent classes. When a method in a subclass has the same name, same parameters or signature and same return type(or sub-type) as a method in its super-class, then the method in the subclass is said to override the method in the super-class.\n"
   ]
  },
  {
   "cell_type": "code",
   "execution_count": 7,
   "id": "12401af6-65be-47a0-b1f0-70ccf986b739",
   "metadata": {},
   "outputs": [
    {
     "name": "stdout",
     "output_type": "stream",
     "text": [
      "Inside Child\n"
     ]
    }
   ],
   "source": [
    "\n",
    "class Parent1():\n",
    "\n",
    "\n",
    "    def show(self):\n",
    "        print(\"Inside Parent1\")\n",
    "\n",
    "\n",
    "\n",
    "class Child(Parent1):\n",
    "\n",
    "\n",
    "     def show(self):\n",
    "        print(\"Inside Child\")\n",
    "\n",
    "obj = Child()\n",
    "\n",
    "obj.show()"
   ]
  },
  {
   "cell_type": "code",
   "execution_count": null,
   "id": "a3a87fc9-69f0-4fcf-a52c-7c3245b64aac",
   "metadata": {},
   "outputs": [],
   "source": []
  }
 ],
 "metadata": {
  "kernelspec": {
   "display_name": "Python 3 (ipykernel)",
   "language": "python",
   "name": "python3"
  },
  "language_info": {
   "codemirror_mode": {
    "name": "ipython",
    "version": 3
   },
   "file_extension": ".py",
   "mimetype": "text/x-python",
   "name": "python",
   "nbconvert_exporter": "python",
   "pygments_lexer": "ipython3",
   "version": "3.10.8"
  }
 },
 "nbformat": 4,
 "nbformat_minor": 5
}
