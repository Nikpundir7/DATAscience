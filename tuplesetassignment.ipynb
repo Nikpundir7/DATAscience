{
 "cells": [
  {
   "cell_type": "code",
   "execution_count": null,
   "id": "7a6b69e2-7bbb-4d70-a296-2c54e985a401",
   "metadata": {},
   "outputs": [],
   "source": [
    "##Q1. What are the characteristics of the tuples? Is tuple immutable?\n",
    "\n",
    "\"\"\"\n",
    "These tuples are an ordered collection of elements of different data types. \n",
    "Furthermore, we represent them by writing the elements inside the parenthesis separated by commas. \n",
    "We can also define tuples as lists that we cannot change. \n",
    "Therefore, we can call them immutable tuples.\n",
    "\"\"\""
   ]
  },
  {
   "cell_type": "code",
   "execution_count": null,
   "id": "503c2119-986b-42d6-b51c-18202312478f",
   "metadata": {},
   "outputs": [],
   "source": [
    "###Q2. What are the two tuple methods in python? Give an example of each method. Give a reason why\n",
    "###tuples have only two in-built methods as compared to Lists.\n",
    "\n",
    "\n",
    "\"\"\"\n",
    "\n",
    "The count() method of Tuple returns the number of times the given element appears in the tuple.\n",
    "\n",
    "\n",
    "\n",
    "The Index() method returns the first occurrence of the given element from the tuple.\n",
    "\n",
    "tuples have only two in-built methods as compared to Lists as tuples are immutable when compared to lists which a\n",
    "are mutable \n",
    "\n",
    "\"\"\""
   ]
  },
  {
   "cell_type": "code",
   "execution_count": 3,
   "id": "e2797352-3daf-42a1-9085-917f17df3b75",
   "metadata": {},
   "outputs": [
    {
     "name": "stdout",
     "output_type": "stream",
     "text": [
      "2\n"
     ]
    }
   ],
   "source": [
    "# Creating tuples\n",
    "Tuple = (0, 1, (2, 3), (2, 3), 1, \n",
    "         [3, 2], (0,))\n",
    "  \n",
    "# count the appearance of (2, 3)\n",
    "res = Tuple.count((2, 3))\n",
    "print(res)"
   ]
  },
  {
   "cell_type": "code",
   "execution_count": 6,
   "id": "83e8f6d7-b642-4af6-a2f8-b796e54c1a74",
   "metadata": {},
   "outputs": [
    {
     "name": "stdout",
     "output_type": "stream",
     "text": [
      "3\n"
     ]
    }
   ],
   "source": [
    "Tuple2 = (0, 1, 2, 3, 2, 3, 1, 3, 2)  \n",
    "# getting the index of 3\n",
    "res2 = Tuple2.index(3)\n",
    "print(res2)"
   ]
  },
  {
   "cell_type": "code",
   "execution_count": null,
   "id": "03bd09d8-29e1-495c-afe1-db266ff7bb7c",
   "metadata": {},
   "outputs": [],
   "source": [
    "\n",
    "\"\"\"Q3. Which collection datatypes in python do not allow duplicate items? Write a code using a set to remove\n",
    "duplicates from the given list.\n",
    "List = [1, 1, 1, 2, 1, 3, 1, 4, 2, 1, 2, 2, 2, 3, 2, 4, 3, 1, 3, 2, 3, 3, 3, 4, 4, 1, 4, 2, 4, 3, 4, 4]\n",
    "\"\"\"\n",
    "\n",
    "\n",
    "##Set collection datatype doesnot allow duplicates"
   ]
  },
  {
   "cell_type": "code",
   "execution_count": 8,
   "id": "cf7dd334-5d4f-4bb0-be43-ce98d5f1bb38",
   "metadata": {},
   "outputs": [
    {
     "name": "stdout",
     "output_type": "stream",
     "text": [
      "{1, 2, 3, 4}\n"
     ]
    }
   ],
   "source": [
    "List = [1, 1, 1, 2, 1, 3, 1, 4, 2, 1, 2, 2, 2, 3, 2, 4, 3, 1, 3, 2, 3, 3, 3, 4, 4, 1, 4, 2, 4, 3, 4, 4]\n",
    "\n",
    "set_list=set(List)\n",
    "\n",
    "print(set_list)\n"
   ]
  },
  {
   "cell_type": "code",
   "execution_count": null,
   "id": "ade7107a-8198-4fa6-838c-dbbb76497a21",
   "metadata": {},
   "outputs": [],
   "source": [
    "\n",
    "\"\"\"\n",
    "Q4. Explain the difference between the union() and update() methods for a set. Give an example of\n",
    "each method.\n",
    "\n",
    "\"\"\"\n",
    "\n",
    "###the union method of two or more sets is the set which contains all the elements ( distinct ) \n",
    "###present in all the sets\n",
    "\n",
    "\" \" \"\n",
    " update method is used to return the union of a set and the set of elements from one or more iterable like \n",
    "string, list, set. It is very similar to union() method, with difference is \n",
    "that where union() method create and return a new set, containing all the elements ( distinct ) present \n",
    "in all the iterables, update() method updates the set on which this method is called \n",
    "with all the distinct elements present in all the iterables.\n",
    "\n",
    "\" \" \""
   ]
  },
  {
   "cell_type": "code",
   "execution_count": 9,
   "id": "9f846716-fb14-4445-a659-bd0416f69885",
   "metadata": {},
   "outputs": [],
   "source": [
    "first_set = {1, 5, 7, 4, 5}\n",
    "second_set = {4, 5, 6, 7, 8}\n",
    "new_set = first_set.union(second_set)"
   ]
  },
  {
   "cell_type": "code",
   "execution_count": 10,
   "id": "a48c0d88-5d83-4e52-b101-d310ecff70e8",
   "metadata": {},
   "outputs": [
    {
     "data": {
      "text/plain": [
       "{1, 4, 5, 6, 7, 8}"
      ]
     },
     "execution_count": 10,
     "metadata": {},
     "output_type": "execute_result"
    }
   ],
   "source": [
    "new_set"
   ]
  },
  {
   "cell_type": "code",
   "execution_count": 17,
   "id": "44d2c464-b4e1-447c-ad7e-ff096471a359",
   "metadata": {},
   "outputs": [],
   "source": [
    "A = {1,2,3,4,5}\n",
    "\n",
    "# create set object and assign it to variable B\n",
    "B = {4,5,6,7,8,9}\n",
    "\n",
    "# call update method to get union of set A and B by updating set A\n",
    "A.update(B)\n"
   ]
  },
  {
   "cell_type": "code",
   "execution_count": 18,
   "id": "7cc2f110-862b-4eb1-bac0-1b839b3dccde",
   "metadata": {},
   "outputs": [
    {
     "name": "stdout",
     "output_type": "stream",
     "text": [
      "{1, 2, 3, 4, 5, 6, 7, 8, 9}\n"
     ]
    }
   ],
   "source": [
    "print(A)"
   ]
  },
  {
   "cell_type": "code",
   "execution_count": null,
   "id": "7fadd1c1-ee6f-4690-a5ee-15a272576e83",
   "metadata": {},
   "outputs": [],
   "source": [
    "\n",
    "\n",
    "\"\"\"\n",
    "Q5. What is a dictionary? Give an example. Also, state whether a dictionary is ordered or unordered.\n",
    "\"\"\"\n",
    "#The dictionary is an unordered collection that contains key:value pairs \n",
    "#separated by commas inside curly brackets. \n",
    "#Dictionaries are optimized to retrieve values when the key is known.\n",
    "\n",
    "\n"
   ]
  },
  {
   "cell_type": "code",
   "execution_count": null,
   "id": "df3b6067-f733-4774-bc21-b397f886d436",
   "metadata": {},
   "outputs": [],
   "source": [
    "\"\"\"\n",
    "\n",
    "Q.6 Can we create a nested dictionary? If so, please give an example by creating a simple one-level\n",
    "nested dictionary.\n",
    "\n",
    "\"\"\"\"\n",
    "\n",
    "##yes we can create a nested dictionary \n",
    "#Nesting Dictionary means putting a dictionary inside another dictionary. \n",
    "#Nesting is of great use as the kind of information we can model in programs is expanded greatly. "
   ]
  },
  {
   "cell_type": "code",
   "execution_count": 19,
   "id": "42b7b7ff-44fc-4faa-9f53-694fcdeeb563",
   "metadata": {},
   "outputs": [],
   "source": [
    "nested_dict = { 'dict1': {'key_A': 'value_A'},\n",
    "\t\t\t\t'dict2': {'key_B': 'value_B'}}\n"
   ]
  },
  {
   "cell_type": "code",
   "execution_count": null,
   "id": "f157a4fe-804e-4eca-a081-9eefb50f923c",
   "metadata": {},
   "outputs": [],
   "source": [
    "\n",
    "### Q7. Using setdefault() method, create key named topics in the given dictionary and also add the value of\n",
    "###the key as this list ['Python', 'Machine Learning’, 'Deep Learning']\n",
    "\n",
    "\"\"\"\n",
    "Python Dictionary setdefault() returns the value of a key (if the key is in dictionary). \n",
    "Else, it inserts a key with the default value to the dictionary.\n",
    "\n",
    "\n",
    "\"\"\"\n"
   ]
  },
  {
   "cell_type": "code",
   "execution_count": 21,
   "id": "041afd2b-96ee-441b-b765-e253cac3bdd3",
   "metadata": {},
   "outputs": [
    {
     "name": "stdout",
     "output_type": "stream",
     "text": [
      "['Python', 'Machine Learning', 'deep learning']\n"
     ]
    }
   ],
   "source": [
    "l1= ['Python', 'Machine Learning' , 'deep learning']\n",
    "\n",
    "courses={\"statistics\":\"maths\"}\n",
    "topics=courses.setdefault(\"ml\",l1)\n",
    "print(topics)"
   ]
  },
  {
   "cell_type": "code",
   "execution_count": null,
   "id": "bfab97cf-5e54-4ad3-ab6c-b312f88aa5ab",
   "metadata": {},
   "outputs": [],
   "source": [
    "\n",
    "\"\"\"\n",
    "Q8. What are the three view objects in dictionaries? Use the three in-built methods in python to display\n",
    "these three view objects for the given dictionary.\n",
    "dict1 = \n",
    "{'Sport': 'Cricket' , 'Teams': ['India', 'Australia', 'England', 'South Africa', 'Sri Lanka', 'New Zealand']}\n",
    "\n",
    "\"\"\"\n",
    "\n",
    "dict.items() (and values, keys): returns a list, so you can actually store the result, and\n",
    "dict.iteritems() (and the like): returns a generator, so you can iterate over each value generated one by one.\n",
    "\n",
    "\n"
   ]
  },
  {
   "cell_type": "code",
   "execution_count": 24,
   "id": "82170a25-8338-47dd-a4d2-81cf17a132f2",
   "metadata": {},
   "outputs": [
    {
     "name": "stdout",
     "output_type": "stream",
     "text": [
      "items : dict_items([('Sport', 'Cricket'), ('Teams', ['India', 'Australia', 'England', 'South Africa', 'Sri Lanka', 'New Zealand'])])\n"
     ]
    }
   ],
   "source": [
    "dict1 = {'Sport': 'Cricket' , 'Teams': ['India', 'Australia', 'England', 'South Africa', 'Sri Lanka', 'New Zealand']}\n",
    "\n",
    "\n",
    "print (\"items : %s\" %  dict1.items())"
   ]
  },
  {
   "cell_type": "code",
   "execution_count": 26,
   "id": "38806085-724c-45ea-b781-572b20311755",
   "metadata": {},
   "outputs": [
    {
     "name": "stdout",
     "output_type": "stream",
     "text": [
      "values: dict_values(['Cricket', ['India', 'Australia', 'England', 'South Africa', 'Sri Lanka', 'New Zealand']])\n"
     ]
    }
   ],
   "source": [
    "\n",
    "print (\"values: %s\" %  dict1.values())"
   ]
  },
  {
   "cell_type": "code",
   "execution_count": 27,
   "id": "46fcfd83-27da-4209-8f3a-bf4c6440f400",
   "metadata": {},
   "outputs": [
    {
     "name": "stdout",
     "output_type": "stream",
     "text": [
      "keys : dict_keys(['Sport', 'Teams'])\n"
     ]
    }
   ],
   "source": [
    "\n",
    "\n",
    "print (\"keys : %s\" %  dict1.keys())"
   ]
  },
  {
   "cell_type": "code",
   "execution_count": null,
   "id": "bc3cacd8-3044-49e3-a602-7e42c3a07c1d",
   "metadata": {},
   "outputs": [],
   "source": []
  }
 ],
 "metadata": {
  "kernelspec": {
   "display_name": "Python 3 (ipykernel)",
   "language": "python",
   "name": "python3"
  },
  "language_info": {
   "codemirror_mode": {
    "name": "ipython",
    "version": 3
   },
   "file_extension": ".py",
   "mimetype": "text/x-python",
   "name": "python",
   "nbconvert_exporter": "python",
   "pygments_lexer": "ipython3",
   "version": "3.10.8"
  }
 },
 "nbformat": 4,
 "nbformat_minor": 5
}
