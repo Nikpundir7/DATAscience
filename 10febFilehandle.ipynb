{
 "cells": [
  {
   "cell_type": "markdown",
   "id": "bed1638c-b6ae-45c1-a484-58a871a8da93",
   "metadata": {},
   "source": [
    "Q1. Which function is used to open a file? What are the different modes of opening a file? Explain each mode of file opening.\n",
    "\n",
    "open() is used to open file in python.\n",
    "\n",
    "There are 6 access modes in python.\n",
    "\n",
    "Read Only (‘r’): Open text file for reading. The handle is positioned at the beginning of the file. If the file does not exist, raises an I/O error. This is also the default mode in which the file is opened.\n",
    "\n",
    "Read and Write (‘r+’): Open the file for reading and writing. The handle is positioned at the beginning of the file. Raises I/O error if the file does not exist.\n",
    "\n",
    "Write Only (‘w’): Open the file for writing. For the existing files, the data is truncated and over-written. The handle is positioned at the beginning of the file. Creates the file if the file does not exist.\n",
    "\n",
    "Write and Read (‘w+’): Open the file for reading and writing. For existing files, data is truncated and over-written. The handle is positioned at the beginning of the file.\n",
    "\n",
    "Append Only (‘a’): Open the file for writing. The file is created if it does not exist. The handle is positioned at the end of the file. The data being written will be inserted at the end, after the existing data.\n",
    "\n",
    "Append and Read (‘a+’): Open the file for reading and writing. The file is created if it does not exist. The handle is positioned at the end of the file. The data being written will be inserted at the end, after the existing data.\n",
    "\n",
    "Read Only in Binary format(‘rb’): It lets the user open the file for reading in binary format.\n",
    "\n",
    "Read and Write in Binary Format(‘rb+’): It lets the user open the file for reading and writing in binary format.\n",
    "\n",
    "Write Only in Binary Format(‘wb’): It lets the user open the file for writing in binary format. When a file gets opened in this mode, there are two things that can happen mostly. A new file gets created if the file does not exist. The content within the file will get overwritten if the file exists and has some data stored in it.\n",
    "\n",
    "Write and Read in Binary Format(‘wb+’): It lets the user open the file for reading as well as writing in binary format. When a file gets opened in this mode, there are two things that can mostly happen. A new file gets created for writing and reading if the file does not exist. The content within the file will get overwritten if the file exists and has some data stored in it.\n",
    "\n",
    "Append only in Binary Format(‘ab’): It lets the user open the file for appending in binary format. A new file gets created if there is no file. The data will be inserted at the end if the file exists and has some data stored in it. Append and Read in Binary Format(‘ab+’): It lets the user open the file for appending and reading in binary format. A new file will be created for reading and appending if the file does not exist. We can read and append if the file exists and has some data stored in it."
   ]
  },
  {
   "cell_type": "code",
   "execution_count": null,
   "id": "4b7200c6-2643-4fb8-b96b-56c5c192e680",
   "metadata": {},
   "outputs": [],
   "source": [
    "#1: Opening a file in read mode in Python. \n",
    "file1 = open(\"myfile.txt\")\n",
    "\n",
    "print(file1.read())\n",
    "\n",
    "file1.close()"
   ]
  },
  {
   "cell_type": "code",
   "execution_count": null,
   "id": "8d39e7d4-64a7-430f-9d43-c368cbd2be4c",
   "metadata": {},
   "outputs": [],
   "source": [
    "#2: Adding data to the existing file in Python \n",
    "file1 = open(\"myfile.txt\" , \"a\" )\n",
    " \n",
    "file1.write(\"\\nWriting to file:)\" )\n",
    "file1.close()\n"
   ]
  },
  {
   "cell_type": "code",
   "execution_count": null,
   "id": "475aef01-645f-4508-a090-3a9ff261cbda",
   "metadata": {},
   "outputs": [],
   "source": [
    "#Open the file \"demofile2.txt\" and append content to the file:\n",
    "f = open(\"demofile2.txt\", \"a\")\n",
    "f.write(\"Now the file has more content!\")\n",
    "f.close()"
   ]
  },
  {
   "cell_type": "markdown",
   "id": "986843ad-0025-49b9-bb8c-4742dcc5fb1b",
   "metadata": {},
   "source": [
    "Q2. Why close() function is used? Why is it important to close a file?"
   ]
  },
  {
   "cell_type": "markdown",
   "id": "60fc5864-0ac4-4691-8f48-e05175baa9cd",
   "metadata": {},
   "source": [
    "close function is used to close the open file.\n"
   ]
  },
  {
   "cell_type": "markdown",
   "id": "cf44896f-de49-460d-a201-cc29e0161b37",
   "metadata": {},
   "source": [
    "Q3. Write a python program to create a text file. Write ‘I want to become a Data Scientist’ in that file. Then close the file. Open this file and read the content of the file.\n",
    "\n"
   ]
  },
  {
   "cell_type": "code",
   "execution_count": 1,
   "id": "3daa81bd-e33c-41c6-84f3-ae263919b5ec",
   "metadata": {},
   "outputs": [],
   "source": [
    "f=open('text.txt','w')\n",
    "f.write('I want to become a Data Scientist')\n",
    "f.close()\n",
    "f1=open('text.txt','r')\n",
    "val=f1.read()\n",
    "f1.close()\n"
   ]
  },
  {
   "cell_type": "code",
   "execution_count": 2,
   "id": "f3863e9f-5f02-4ceb-949f-1a5c6ca95b46",
   "metadata": {},
   "outputs": [
    {
     "data": {
      "text/plain": [
       "'I want to become a Data Scientist'"
      ]
     },
     "execution_count": 2,
     "metadata": {},
     "output_type": "execute_result"
    }
   ],
   "source": [
    "val"
   ]
  },
  {
   "cell_type": "markdown",
   "id": "3ef485da-c12d-4bc4-9ee1-94cc7e602381",
   "metadata": {},
   "source": [
    "\n",
    "\n",
    "Q4. Explain the following with python code: read(), readline() and readlines().\n",
    "\n",
    "read() reads the entire file and returns a string, readline() reads just one line from a file, readlines() returns a list of strings representing the lines of the file."
   ]
  },
  {
   "cell_type": "code",
   "execution_count": 3,
   "id": "9c77b73a-16ab-4da1-b8af-909fa15bde58",
   "metadata": {},
   "outputs": [
    {
     "name": "stdout",
     "output_type": "stream",
     "text": [
      "False\n"
     ]
    }
   ],
   "source": [
    "with open(\"text.txt\") as f:\n",
    "    content = f.read()\n",
    "content\n",
    "'I want to become a Data Scientist'\n",
    "string = \"word\"\n",
    "in_file = False\n",
    "\n",
    "with open(\"text.txt\",\"r\") as f:\n",
    "    if string in f.read():\n",
    "        in_file = True\n",
    "\n",
    "print(in_file)\n"
   ]
  },
  {
   "cell_type": "code",
   "execution_count": 4,
   "id": "cf874a26-ac36-4b70-83cb-ca21aabb373d",
   "metadata": {},
   "outputs": [
    {
     "data": {
      "text/plain": [
       "['I want to become a Data Scientist']"
      ]
     },
     "execution_count": 4,
     "metadata": {},
     "output_type": "execute_result"
    }
   ],
   "source": [
    "\n",
    "with open(\"text.txt\") as f:\n",
    "    lines = f.readlines()\n",
    "lines\n",
    "\n"
   ]
  },
  {
   "cell_type": "code",
   "execution_count": 5,
   "id": "6f5cdea7-3042-4da0-a56d-5fb466709f8d",
   "metadata": {},
   "outputs": [
    {
     "data": {
      "text/plain": [
       "'I want to become a Data Scientist'"
      ]
     },
     "execution_count": 5,
     "metadata": {},
     "output_type": "execute_result"
    }
   ],
   "source": [
    "with open(\"text.txt\") as f:\n",
    "    first_line = f.readline()\n",
    "first_line"
   ]
  },
  {
   "cell_type": "markdown",
   "id": "45419d8f-e5cc-43ad-ad63-d0f8d60209a1",
   "metadata": {},
   "source": [
    "Q5. Explain why with statement is used with open(). What is the advantage of using with statement and open() together?\n",
    "\n",
    "with open ('output.txt', 'w') as f: f.write ('Hi there!') The above with statement will automatically close the file after the nested block of code.A nd if 'output.txt' is not present in our directory the it will create a file automatically eith given filename. The advantage of using a with statement is that it is guaranteed to close the file no matter how the nested block exits.\n",
    "\n",
    "Q6. Explain the write() and writelines() functions. Give a suitable example."
   ]
  },
  {
   "cell_type": "code",
   "execution_count": 6,
   "id": "d02f942b-a567-43c1-8db0-c61c69bde2ac",
   "metadata": {},
   "outputs": [
    {
     "name": "stdin",
     "output_type": "stream",
     "text": [
      "Enter the name of the employee:  nik\n",
      "Enter the name of the employee:  arjun\n",
      "Enter the name of the employee:  sayam\n"
     ]
    },
    {
     "name": "stdout",
     "output_type": "stream",
     "text": [
      "Data is written into the file.\n"
     ]
    }
   ],
   "source": [
    "# write() function\n",
    "# The write() function will write the content in the file without adding any extra characters.\n",
    "\n",
    "file = open(\"Employees.txt\", \"w\")\n",
    "\n",
    "for i in range(3):\n",
    "    name = input(\"Enter the name of the employee: \")\n",
    "    file.write(name)\n",
    "    file.write(\"\\n\")\n",
    "\n",
    "file.close()\n",
    "\n",
    "print(\"Data is written into the file.\")"
   ]
  },
  {
   "cell_type": "code",
   "execution_count": 8,
   "id": "e5f31a5e-da8c-4e03-b953-ffb080cf363e",
   "metadata": {},
   "outputs": [
    {
     "name": "stdin",
     "output_type": "stream",
     "text": [
      "Enter the name of the employee:  virat\n",
      "Enter the name of the employee:  rohit\n",
      "Enter the name of the employee:  gill\n"
     ]
    },
    {
     "name": "stdout",
     "output_type": "stream",
     "text": [
      "Data is written into the file.\n"
     ]
    }
   ],
   "source": [
    "# writelines() function\n",
    "# This function writes the content of a list to a file.\n",
    "\n",
    "file1 = open(\"Employees.txt\", \"w\")\n",
    "lst = []\n",
    "for i in range(3):\n",
    "    name = input(\"Enter the name of the employee: \")\n",
    "    lst.append(name + '\\n')\n",
    "\n",
    "file1.writelines(lst)\n",
    "file1.close()\n",
    "print(\"Data is written into the file.\")\n",
    "\n"
   ]
  },
  {
   "cell_type": "markdown",
   "id": "346eb2b3-f71e-457d-a0d0-a5a2a6d11e9c",
   "metadata": {},
   "source": [
    "The only difference between the write() and writelines() is that write() is used to write a string to an already opened file while writelines() method is used to write a list of strings in an opened file.\n"
   ]
  }
 ],
 "metadata": {
  "kernelspec": {
   "display_name": "Python 3 (ipykernel)",
   "language": "python",
   "name": "python3"
  },
  "language_info": {
   "codemirror_mode": {
    "name": "ipython",
    "version": 3
   },
   "file_extension": ".py",
   "mimetype": "text/x-python",
   "name": "python",
   "nbconvert_exporter": "python",
   "pygments_lexer": "ipython3",
   "version": "3.10.8"
  }
 },
 "nbformat": 4,
 "nbformat_minor": 5
}
