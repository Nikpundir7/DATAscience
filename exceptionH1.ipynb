{
 "cells": [
  {
   "cell_type": "markdown",
   "id": "a5c2ec5f-1f5f-4449-902a-f153de07f60b",
   "metadata": {},
   "source": [
    "\n",
    "Q1. What is an Exception in python? Write the difference between Exceptions and syntax errors.\n",
    "\n",
    "An exception is an event, which occurs during the execution of a program that disrupts the normal flow of the program's instructions.\n",
    "\n",
    "Error in Python can be of two types i.e. Syntax errors and Exceptions. Errors are the problems in a program due to which the program will stop the execution. On the other hand, exceptions are raised when some internal events occur which changes the normal flow of the program.\n",
    "\n",
    "Syntax Error: As the name suggests this error is caused by the wrong syntax in the code. It leads to the termination of the program. Exceptions: Exceptions are raised when the program is syntactically correct, but the code resulted in an error. This error does not stop the execution of the program, however, it changes the normal flow of the program.\n",
    "\n",
    "Q2. What happens when an exception is not handled? Explain with an example\n",
    "\n",
    "when we will not handled the the exception cast our program is crashed.\n",
    "\n",
    "numerator = 10\n",
    "denominator = 0\n",
    "\n",
    "result = numerator/denominator\n",
    "\n",
    "print(result)\n",
    "Q3. Which Python statements are used to catch and handle exceptions? Explain withan example\n",
    "\n",
    "Try and except statements are used to catch and handle exceptions in Python. Statements that can raise exceptions are kept inside the try clause and the statements that handle the exception are written inside except clause.\n",
    "\n"
   ]
  },
  {
   "cell_type": "code",
   "execution_count": 1,
   "id": "2be2687c-aa8b-43cc-87b4-ecc6f91ee828",
   "metadata": {},
   "outputs": [
    {
     "name": "stdout",
     "output_type": "stream",
     "text": [
      "You have divided a number by zero, which is not allowed.\n"
     ]
    }
   ],
   "source": [
    "try:\n",
    "    a = 10\n",
    "    b = 0\n",
    "    print(\"Result of Division: \" + str(a/b))\n",
    "except:\n",
    "    print(\"You have divided a number by zero, which is not allowed.\")\n",
    "    "
   ]
  },
  {
   "cell_type": "markdown",
   "id": "c3cc4373-79b1-4c6e-bbdf-08dc7463ef71",
   "metadata": {},
   "source": [
    "Q4. Explain with an example\n",
    "\n",
    "\n"
   ]
  },
  {
   "cell_type": "code",
   "execution_count": 2,
   "id": "581daec1-69b0-4119-9ea5-393a0bbc6648",
   "metadata": {},
   "outputs": [
    {
     "name": "stdout",
     "output_type": "stream",
     "text": [
      "file not present in this directory [Errno 2] No such file or directory: 'random1.txt'\n",
      "finally will execute itself in any situation\n"
     ]
    }
   ],
   "source": [
    "try:\n",
    "    f=open(\"random1.txt\",'r')\n",
    "except Exception as e:\n",
    "    print(\"file not present in this directory\",e)\n",
    "else:\n",
    "    f.close()\n",
    "    print(\"this is my else block\")\n",
    "finally:\n",
    "    print(\"finally will execute itself in any situation\")\n",
    "\n"
   ]
  },
  {
   "cell_type": "markdown",
   "id": "aae07ddb-4582-4394-9109-24de9f5e6152",
   "metadata": {},
   "source": [
    "Q5. What are custom exception in python?Why do we need custom exception?explain with an example.\n",
    "\n",
    "custom exception is an user-defined exception,in which user can defined exception according to him/her requirement.\n",
    "\n",
    "We can create a custom Exception class to define the new Exception. Again, the idea behind using a Class is because Python treats everything as a Class. So it doesn’t seem that outlandish that an Exception can be a class as well!\n"
   ]
  },
  {
   "cell_type": "code",
   "execution_count": 3,
   "id": "1fed5393-9f4f-4f76-9bce-9aaa1a064cca",
   "metadata": {},
   "outputs": [
    {
     "name": "stdout",
     "output_type": "stream",
     "text": [
      "Printing Errors:\n",
      "Custom Error\n"
     ]
    },
    {
     "ename": "MyException",
     "evalue": "Custom Message",
     "output_type": "error",
     "traceback": [
      "\u001b[0;31m---------------------------------------------------------------------------\u001b[0m",
      "\u001b[0;31mMyException\u001b[0m                               Traceback (most recent call last)",
      "Cell \u001b[0;32mIn[3], line 18\u001b[0m\n\u001b[1;32m     12\u001b[0m         \u001b[38;5;28;01mraise\u001b[39;00m MyException(\u001b[38;5;124m'\u001b[39m\u001b[38;5;124mCustom Message\u001b[39m\u001b[38;5;124m'\u001b[39m, \u001b[38;5;124m'\u001b[39m\u001b[38;5;124mCustom Error\u001b[39m\u001b[38;5;124m'\u001b[39m)\n\u001b[1;32m     14\u001b[0m \u001b[38;5;66;03m# MyException will not be raised\u001b[39;00m\n\u001b[1;32m     15\u001b[0m \u001b[38;5;66;03m# list_check([1, 2, 3, 4])\u001b[39;00m\n\u001b[1;32m     16\u001b[0m  \n\u001b[1;32m     17\u001b[0m \u001b[38;5;66;03m# MyException will be raised\u001b[39;00m\n\u001b[0;32m---> 18\u001b[0m \u001b[43mlist_check\u001b[49m\u001b[43m(\u001b[49m\u001b[43m[\u001b[49m\u001b[38;5;241;43m1\u001b[39;49m\u001b[43m,\u001b[49m\u001b[43m \u001b[49m\u001b[38;5;241;43m3\u001b[39;49m\u001b[43m,\u001b[49m\u001b[43m \u001b[49m\u001b[38;5;241;43m5\u001b[39;49m\u001b[43m]\u001b[49m\u001b[43m)\u001b[49m\n",
      "Cell \u001b[0;32mIn[3], line 12\u001b[0m, in \u001b[0;36mlist_check\u001b[0;34m(lst)\u001b[0m\n\u001b[1;32m     10\u001b[0m \u001b[38;5;28;01mdef\u001b[39;00m \u001b[38;5;21mlist_check\u001b[39m(lst):\n\u001b[1;32m     11\u001b[0m     \u001b[38;5;28;01mif\u001b[39;00m \u001b[38;5;28mlen\u001b[39m(lst) \u001b[38;5;241m%\u001b[39m \u001b[38;5;241m2\u001b[39m \u001b[38;5;241m!=\u001b[39m \u001b[38;5;241m0\u001b[39m:\n\u001b[0;32m---> 12\u001b[0m         \u001b[38;5;28;01mraise\u001b[39;00m MyException(\u001b[38;5;124m'\u001b[39m\u001b[38;5;124mCustom Message\u001b[39m\u001b[38;5;124m'\u001b[39m, \u001b[38;5;124m'\u001b[39m\u001b[38;5;124mCustom Error\u001b[39m\u001b[38;5;124m'\u001b[39m)\n",
      "\u001b[0;31mMyException\u001b[0m: Custom Message"
     ]
    }
   ],
   "source": [
    "class MyException(Exception):\n",
    "    def __init__(self, message, errors):\n",
    "        \n",
    "        super().__init__(message)\n",
    "        self.errors = errors\n",
    "        # Display the errors\n",
    "        print('Printing Errors:')\n",
    "        print(errors)\n",
    " \n",
    "def list_check(lst):\n",
    "    if len(lst) % 2 != 0:\n",
    "        raise MyException('Custom Message', 'Custom Error')\n",
    " \n",
    "# MyException will not be raised\n",
    "# list_check([1, 2, 3, 4])\n",
    " \n",
    "# MyException will be raised\n",
    "list_check([1, 3, 5])"
   ]
  },
  {
   "cell_type": "markdown",
   "id": "a91b983a-44e9-462f-ae07-b8e688c04209",
   "metadata": {},
   "source": [
    "\n",
    "Q6. Create custom exception class. Use this class to handle an exception.\n",
    "\n"
   ]
  },
  {
   "cell_type": "code",
   "execution_count": 5,
   "id": "e4bc835c-a22d-4346-8d0a-56c445bc126c",
   "metadata": {},
   "outputs": [
    {
     "name": "stdin",
     "output_type": "stream",
     "text": [
      "Enter a number:  12\n"
     ]
    },
    {
     "name": "stdout",
     "output_type": "stream",
     "text": [
      "Exception occurred: Invalid Age\n"
     ]
    }
   ],
   "source": [
    "# define Python user-defined exceptions\n",
    "class InvalidAgeException(Exception):\n",
    "    \"Raised when the input value is less than 18\"\n",
    "    pass\n",
    "\n",
    "# you need to guess this number\n",
    "number = 18\n",
    "\n",
    "try:\n",
    "    input_num = int(input(\"Enter a number: \"))\n",
    "    if input_num < number:\n",
    "        raise InvalidAgeException\n",
    "    else:\n",
    "        print(\"Eligible to Vote\")\n",
    "        \n",
    "except InvalidAgeException:\n",
    "    print(\"Exception occurred: Invalid Age\")\n"
   ]
  },
  {
   "cell_type": "code",
   "execution_count": null,
   "id": "6c26e6af-215a-4781-a651-e1f6deb58dee",
   "metadata": {},
   "outputs": [],
   "source": []
  }
 ],
 "metadata": {
  "kernelspec": {
   "display_name": "Python 3 (ipykernel)",
   "language": "python",
   "name": "python3"
  },
  "language_info": {
   "codemirror_mode": {
    "name": "ipython",
    "version": 3
   },
   "file_extension": ".py",
   "mimetype": "text/x-python",
   "name": "python",
   "nbconvert_exporter": "python",
   "pygments_lexer": "ipython3",
   "version": "3.10.8"
  }
 },
 "nbformat": 4,
 "nbformat_minor": 5
}
