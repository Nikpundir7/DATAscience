{
 "cells": [
  {
   "cell_type": "markdown",
   "id": "e3e46065-d1bd-4c27-8cdb-d938eb04a839",
   "metadata": {},
   "source": [
    "Q1. What is Web Scraping? Why is it Used? Give three areas where Web Scraping is used to get data.\n",
    "Web Scraping is a way to scrap or collent data form a website. It is used to grab data to perfom some test and gethr use full information by using this data.\n",
    "\n",
    "In big data\n",
    "In data Analytics\n",
    "In data engineer\n",
    "every data related fields\n",
    "\n",
    "Q2. What are the different methods used for Web Scraping?\n",
    "scraping.find(\"div\")                # find first div\n",
    "scraping.find_all(\"a\")                 # return all anchor tag\n",
    "scraping.select(\"div > p\")           # find paragraph tag inside a div tag\n",
    "scraping.find(\"div\").text            # return tag in text format\n",
    "by using chrome extension\n",
    "by using python modules\n",
    "by using some online tools\n",
    "Q3. What is Beautiful Soup? Why is it used?\n",
    "BeautifulSoup is a python module, It is used to fetch/scrap data form any publicly abailable website data\n",
    "\n",
    "Q4. Why is flask used in this Web Scraping project?\n",
    "Basicly flask is a API tool, So it is used to build connection between web scraping data and project\n",
    "\n",
    "Q5. Write the names of AWS services used in this project. Also, explain the use of each service.\n",
    "Ans :\n",
    "In this project two AWS services uses\n",
    "\n",
    "First one is Code Pipeline, which is used to connect github repo\n",
    "Second one is Beanstalk, which is used to connect with code pipeline"
   ]
  }
 ],
 "metadata": {
  "kernelspec": {
   "display_name": "Python 3 (ipykernel)",
   "language": "python",
   "name": "python3"
  },
  "language_info": {
   "codemirror_mode": {
    "name": "ipython",
    "version": 3
   },
   "file_extension": ".py",
   "mimetype": "text/x-python",
   "name": "python",
   "nbconvert_exporter": "python",
   "pygments_lexer": "ipython3",
   "version": "3.10.8"
  }
 },
 "nbformat": 4,
 "nbformat_minor": 5
}
