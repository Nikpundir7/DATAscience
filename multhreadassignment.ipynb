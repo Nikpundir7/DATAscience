{
 "cells": [
  {
   "cell_type": "markdown",
   "id": "2eb43f75-2ed9-4ed0-9541-b4bc3bc0b15d",
   "metadata": {},
   "source": [
    "\n",
    "Q1. What is multithreading in python? Why is it used? Name the module used to handle threads in python.\n",
    "Ans :\n",
    "\n",
    "Thread is called task, So multithreading is a process to work on multiple task at a time.\n",
    "It is used to save the time and work do first, suppose If you want to upload 10 videos on database and there is not need a sequence for uploading then use multithreading to upload video.\n"
   ]
  },
  {
   "cell_type": "code",
   "execution_count": 1,
   "id": "7f5838cd-3925-48f8-ae0b-74d4c2ce4fc0",
   "metadata": {},
   "outputs": [],
   "source": [
    "import threading        # threading module"
   ]
  },
  {
   "cell_type": "markdown",
   "id": "d637f579-e6df-4f89-b158-0a23b3f7d7b9",
   "metadata": {},
   "source": [
    "\n",
    "Q2. Why threading module used? Write the use of the following functions:\n",
    "activeCount()\n",
    "currentThread()\n",
    "enumerate()\n",
    "Ans :\n",
    "threading is a module used to do multiple task on same time. threading creates number of thread to execute task.\n",
    "\n",
    "threading.activeCount() : Return the number of Thread objects currently working.\n",
    "threading.currentThread() : Return current thread ID and his name, you can get name by using threading.current_thread().getName()\n",
    "threading.enumerate() : The enumerate() function returns a list of all currently active Thread objects.\n",
    "\n"
   ]
  },
  {
   "cell_type": "code",
   "execution_count": 2,
   "id": "aeb9c573-ab79-4586-b922-8e92b82bcd7b",
   "metadata": {},
   "outputs": [
    {
     "name": "stdout",
     "output_type": "stream",
     "text": [
      "Thread is running\n",
      "Thread is running\n",
      "Hi\n"
     ]
    },
    {
     "name": "stderr",
     "output_type": "stream",
     "text": [
      "/tmp/ipykernel_3107/1970884747.py:9: DeprecationWarning: activeCount() is deprecated, use active_count() instead\n",
      "  threading.activeCount()\n"
     ]
    },
    {
     "data": {
      "text/plain": [
       "8"
      ]
     },
     "execution_count": 2,
     "metadata": {},
     "output_type": "execute_result"
    }
   ],
   "source": [
    "from threading import Thread\n",
    "def runThr():\n",
    "    print('Thread is running')\n",
    "t = Thread(target=runThr)\n",
    "t1 = Thread(target=runThr)\n",
    "t.start()\n",
    "t1.start()\n",
    "print('Hi')\n",
    "threading.activeCount()"
   ]
  },
  {
   "cell_type": "code",
   "execution_count": 3,
   "id": "264e86db-1a13-4700-93ca-9b740d9ab957",
   "metadata": {},
   "outputs": [
    {
     "name": "stdout",
     "output_type": "stream",
     "text": [
      "Thread is running\n",
      "<Thread(Thread-7 (runThr), started 139642103903808)>\n",
      "Thread is running\n",
      "<Thread(Thread-8 (runThr), started 139642103903808)>\n",
      "Hi\n"
     ]
    },
    {
     "name": "stderr",
     "output_type": "stream",
     "text": [
      "/tmp/ipykernel_3107/1279871153.py:4: DeprecationWarning: currentThread() is deprecated, use current_thread() instead\n",
      "  print(threading.currentThread())\n",
      "/tmp/ipykernel_3107/1279871153.py:12: DeprecationWarning: currentThread() is deprecated, use current_thread() instead\n",
      "  threading.currentThread()\n"
     ]
    },
    {
     "data": {
      "text/plain": [
       "<_MainThread(MainThread, started 139642587756352)>"
      ]
     },
     "execution_count": 3,
     "metadata": {},
     "output_type": "execute_result"
    }
   ],
   "source": [
    "from threading import Thread\n",
    "def runThr():\n",
    "    print('Thread is running')\n",
    "    print(threading.currentThread())\n",
    "    \n",
    "    \n",
    "t = Thread(target=runThr)\n",
    "t1 = Thread(target=runThr)\n",
    "t.start()\n",
    "t1.start()\n",
    "print('Hi')\n",
    "threading.currentThread()"
   ]
  },
  {
   "cell_type": "markdown",
   "id": "3169ef0a-a4f8-40d9-a0fe-96c9c699f8a6",
   "metadata": {},
   "source": [
    "\n",
    "Q3. Explain the following functions:\n",
    "run()\n",
    "start()\n",
    "join()\n",
    "isAlive()\n",
    "Ans :\n",
    "\n",
    "run() : Every thread will run this method when thread is started. We can override this method and write our own code as body of the method. A thread will terminate automatically when it comes out of the run() Method.\n",
    "start() : This function used to start a thread when thread is created.\n",
    "join() : This function used to hold next thread untill complete current theread execution.\n",
    "isAlive() : This function replace with is_alive() function, It is used to check whether a thread is currently running or not."
   ]
  },
  {
   "cell_type": "markdown",
   "id": "3204b010-1a00-4650-bf85-d7a5c470b72d",
   "metadata": {},
   "source": [
    "Q4. Write a python program to create two threads. Thread one must print the list of squares and thread two must print the list of cubes."
   ]
  },
  {
   "cell_type": "code",
   "execution_count": 4,
   "id": "ab7728fc-4579-42f4-9dbd-74f8b377a822",
   "metadata": {},
   "outputs": [
    {
     "name": "stdout",
     "output_type": "stream",
     "text": [
      "[4, 9, 16, 25, 25, 36, 49, 16]\n"
     ]
    }
   ],
   "source": [
    "List = [2,3,4,5,5,6,7,4]\n",
    "import threading\n",
    "square = []\n",
    "def test(a):\n",
    "    square.append(a**2)\n",
    "\n",
    "first_thread = [threading.Thread(target=test , args=(i,) )for i in List]\n",
    "for t in first_thread : \n",
    "    t.start()\n",
    "print(square)\n",
    "\n"
   ]
  },
  {
   "cell_type": "code",
   "execution_count": 5,
   "id": "e13e0f3e-b4b2-4f3a-b306-95d36937a030",
   "metadata": {},
   "outputs": [
    {
     "name": "stdout",
     "output_type": "stream",
     "text": [
      "[8, 27, 64, 125, 125, 216, 343, 64]\n"
     ]
    }
   ],
   "source": [
    "import threading\n",
    "cube = []\n",
    "def test(a):\n",
    "    cube.append(a**3)\n",
    "\n",
    "second_thread = [threading.Thread(target=test , args=(i,) )for i in List]\n",
    "for t in second_thread : \n",
    "    t.start()\n",
    "print(cube)"
   ]
  },
  {
   "cell_type": "markdown",
   "id": "c5f33c81-5037-4c3e-93c7-d79846c2758e",
   "metadata": {},
   "source": [
    "Q5. State advantages and disadvantages of multithreading.\n",
    " \n",
    "Advantages\tDisadvantages\n",
    "Improved performance\tGlobal Interpreter Lock\n",
    "Reduced idle time or processing time\tIncreased memory usage\n",
    "Concurrent execution\tThread safety issues\n",
    "Responsiveness\tIncreased complexity\n"
   ]
  },
  {
   "cell_type": "markdown",
   "id": "093a7b41-e58c-41d0-873c-f71628cebf2b",
   "metadata": {},
   "source": [
    "Q6. Explain deadlocks and race conditions.\n",
    "deadlocks : A deadlock is a situation where two or more threads are blocked and unable to proceed because both are waiting for a resource that the other thread is holding.\n",
    "race conditions : A race condition can occur when two or more threads access a shared variable without proper coordination"
   ]
  }
 ],
 "metadata": {
  "kernelspec": {
   "display_name": "Python 3 (ipykernel)",
   "language": "python",
   "name": "python3"
  },
  "language_info": {
   "codemirror_mode": {
    "name": "ipython",
    "version": 3
   },
   "file_extension": ".py",
   "mimetype": "text/x-python",
   "name": "python",
   "nbconvert_exporter": "python",
   "pygments_lexer": "ipython3",
   "version": "3.10.8"
  }
 },
 "nbformat": 4,
 "nbformat_minor": 5
}
