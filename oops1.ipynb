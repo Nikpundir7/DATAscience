{
 "cells": [
  {
   "cell_type": "code",
   "execution_count": 2,
   "id": "34e05c29-68ca-408c-bd24-4d76ebb52c9a",
   "metadata": {},
   "outputs": [
    {
     "name": "stdout",
     "output_type": "stream",
     "text": [
      "I'm a mammal\n",
      "I'm a dog\n"
     ]
    }
   ],
   "source": [
    "\"\"\"Q1. Explain Class and Object with respect to Object-Oriented Programming. Give a suitable example.\n",
    "\n",
    "Ans : class->A class is a user-defined data type. It consists of data members and member functions, which can be accessed and used by creating an instance of that class. It represents the set of properties or methods that are common to all objects of one type. A class is like a blueprint for an object.\n",
    "\n",
    "object ->It is a basic unit of Object-Oriented Programming and represents the real-life entities. An Object is an instance of a Class. When a class is defined, no memory is allocated but when it is instantiated (i.e. an object is created) memory is allocated. An object has an identity, state, and behavior. Each object contains data and code to manipulate the data. Objects can interact without having to know details of each other’s data or code, it is sufficient to know the type of message accepted and type of response returned by the objects. For example “Dog” is a real-life Object, which has some characteristics like color, Breed, Bark, Sleep, and Eats.\n",
    "\n",
    "\"\"\"\n",
    "class dog:\n",
    "    attr1=\"mammal\"\n",
    "    attr2=\"dog\"\n",
    "    def fun(self):\n",
    "        print(\"I'm a\", self.attr1)\n",
    "        print(\"I'm a\", self.attr2)\n",
    " \n",
    "huskey=dog()\n",
    "huskey.fun()"
   ]
  },
  {
   "cell_type": "markdown",
   "id": "0c8c7cb9-cacc-4bbc-a155-2d93669957b3",
   "metadata": {},
   "source": [
    "\"\"\"\n",
    "Q2. Name the four pillars of OOPs.\n",
    "\n",
    "Ans :The four pillars of object-oriented programming are: Abstraction Encapsulation Inheritance Polymorphism\n",
    "\"\"\""
   ]
  },
  {
   "cell_type": "code",
   "execution_count": 4,
   "id": "79a3cd4e-6ebc-43bf-add9-6e97cbbbd17d",
   "metadata": {},
   "outputs": [
    {
     "name": "stdout",
     "output_type": "stream",
     "text": [
      "Hello, my name is Nikhil\n"
     ]
    }
   ],
   "source": [
    "\n",
    "\n",
    "#Q3. Explain why the init() function is used. Give a suitable example.\n",
    "\n",
    "##Ans : The init() is a constructor.Constructors are used to initializing the object’s state. The task of constructors is to initialize(assign values) to the data members of the class when an object of the class is created. Like methods, a constructor also contains a collection of statements(i.e. instructions) that are executed at the time of Object creation. It is run as soon as an object of a class is instantiated.\n",
    "\n",
    "class Person:\n",
    "    def __init__(self, name):\n",
    "        self.name = name\n",
    "    def say_hi(self):\n",
    "        print('Hello, my name is', self.name)\n",
    "        \n",
    "p = Person('Nikhil')\n",
    "p.say_hi()        "
   ]
  },
  {
   "cell_type": "markdown",
   "id": "2e4abc87-e9d2-415b-9fc4-7a44bbdc4dcb",
   "metadata": {},
   "source": [
    "\n",
    "\n",
    "Q4. Why self is used in OOPs?\n",
    "\n",
    "Ans: self represents the instance of the class. By using the “self” we can access the attributes and methods of the class in python. It binds the attributes with the given arguments.\n",
    "\n"
   ]
  },
  {
   "cell_type": "markdown",
   "id": "d48741fe-3915-412e-8435-0b7d61e8bce1",
   "metadata": {},
   "source": [
    "\n",
    "Q5. What is inheritance? Give an example for each type of inheritance.\n",
    "\n",
    "Ans :Inheritance is the ability of one class to inherit another class. Inheritance provides reusability of code and allows us to create complex and real-world-like relationships among objects. syntax : class SubClass(SuperClass): Types of Inheritance: 1.single level inheritance 2.multiple inheritance 3.multi-level inheritance 4.Hierarchical Inheritance\n",
    "\n"
   ]
  },
  {
   "cell_type": "code",
   "execution_count": 5,
   "id": "f2b24175-8d3f-4434-8e4a-cdd6e25b4a3d",
   "metadata": {},
   "outputs": [
    {
     "name": "stdout",
     "output_type": "stream",
     "text": [
      "('John', 30)\n"
     ]
    }
   ],
   "source": [
    "# single inheritance\n",
    "class Person:\n",
    "    def __init__(self, name, age):\n",
    "        self.name = name\n",
    "        self.age = age\n",
    "class Professor(Person):\n",
    "    def isProfessor(self):\n",
    "        return self.name,self.age\n",
    "sir = Professor(\"John\", 30)\n",
    "print(sir.isProfessor())"
   ]
  },
  {
   "cell_type": "code",
   "execution_count": 6,
   "id": "a574f9e1-44b0-4ce8-8b41-ef3e81cc43e6",
   "metadata": {},
   "outputs": [
    {
     "name": "stdout",
     "output_type": "stream",
     "text": [
      "8\n"
     ]
    }
   ],
   "source": [
    "# multiple inheritance\n",
    "class SuperClass1:\n",
    "    num1 = 3\n",
    "class SuperClass2:\n",
    "    num2 = 5\n",
    "class SubClass( SuperClass1, SuperClass2):\n",
    "    def addition(self):\n",
    "        return self.num1 + self.num2\n",
    "obj = SubClass()\n",
    "print(obj.addition())"
   ]
  },
  {
   "cell_type": "code",
   "execution_count": 7,
   "id": "63d7de49-ffdf-4046-87f7-b21bbe6d377a",
   "metadata": {},
   "outputs": [
    {
     "name": "stdout",
     "output_type": "stream",
     "text": [
      "3 3 3\n"
     ]
    }
   ],
   "source": [
    "# Hierarchical Inheritance \n",
    "class SuperClass:\n",
    "    x = 3\n",
    "class SubClass1(SuperClass):\n",
    "    pass\n",
    "class SubClass2(SuperClass):\n",
    "    pass\n",
    "class SubClass3(SuperClass):\n",
    "    pass\n",
    "a = SubClass1()\n",
    "b = SubClass2()\n",
    "c = SubClass3()\n",
    "print(a.x, b.x, c.x)"
   ]
  },
  {
   "cell_type": "code",
   "execution_count": null,
   "id": "68a44335-0ae0-43b3-9dee-7c3fc84f496c",
   "metadata": {},
   "outputs": [],
   "source": []
  }
 ],
 "metadata": {
  "kernelspec": {
   "display_name": "Python 3 (ipykernel)",
   "language": "python",
   "name": "python3"
  },
  "language_info": {
   "codemirror_mode": {
    "name": "ipython",
    "version": 3
   },
   "file_extension": ".py",
   "mimetype": "text/x-python",
   "name": "python",
   "nbconvert_exporter": "python",
   "pygments_lexer": "ipython3",
   "version": "3.10.8"
  }
 },
 "nbformat": 4,
 "nbformat_minor": 5
}
